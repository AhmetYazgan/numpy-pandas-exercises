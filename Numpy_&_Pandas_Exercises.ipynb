{
 "cells": [
  {
   "cell_type": "markdown",
   "id": "7bcf355d",
   "metadata": {
    "id": "7bcf355d"
   },
   "source": [
    "___\n",
    "\n",
    "<p style=\"text-align: center;\"><img src=\"https://docs.google.com/uc?id=1lY0Uj5R04yMY3-ZppPWxqCr5pvBLYPnV\" class=\"img-fluid\"\n",
    "alt=\"CLRSWY\"></p>\n",
    "\n",
    "## <p style=\"background-color:#FDFEFE; font-family:newtimeroman; color:#9d4f8c; font-size:120%; text-align:center; border-radius:10px 10px;\">Way to Reinvent Yourself</p>"
   ]
  },
  {
   "cell_type": "markdown",
   "id": "a3dd647f",
   "metadata": {
    "id": "a3dd647f"
   },
   "source": [
    "\n",
    "## <p style=\"background-color:#9d4f8c; font-family:newtimeroman; color:#FFF9ED; font-size:150%; text-align:center; border-radius:10px 10px;\">Practical Tutorial on Data Manipulation with Numpy and Pandas in Python</p>\n",
    "\n",
    "<img src=https://i.ibb.co/8NdjfdZ/Num-Py-logo.png width=\"700\" height=\"200\">\n",
    "\n",
    "\n",
    "\n"
   ]
  },
  {
   "cell_type": "markdown",
   "id": "73516d79",
   "metadata": {
    "id": "73516d79"
   },
   "source": [
    "## <p style=\"background-color:#9d4f8c; font-family:newtimeroman; color:#FFF9ED; font-size:175%; text-align:center; border-radius:10px 10px;\">What is Numpy? & Why Do We Need It?</p>\n",
    "\n",
    "\n",
    "\n",
    "\n",
    "## What is NumPy?\n",
    "\n",
    "NumPy (or Numpy) is a Linear Algebra Library for Python, the reason it is so important for Data Science with Python is that almost all of the libraries in the PyData Ecosystem rely on NumPy as one of their main building blocks.\n",
    "\n",
    "NumPy or Numeric Python is a package for computation on **homogenous n-dimensional arrays**. In numpy dimensions are called as axes.\n",
    "\n",
    "**Why do we need NumPy?**\n",
    "\n",
    "A question arises that why do we need NumPy when python lists are already there. The answer to it is we cannot perform operations on all the elements of two list directly. For example, we cannot multiply two lists directly we will have to do it element-wise. This is where the role of NumPy comes into play.\n",
    "\n",
    "Numpy is also incredibly fast, as it has bindings to C libraries. For more info on why you would want to use Arrays instead of lists, check out this great [StackOverflow post](http://stackoverflow.com/questions/993984/why-numpy-instead-of-python-lists).\n",
    "\n",
    "### Numpy is/has;\n",
    "\n",
    "**POWERFUL N-DIMENSIONAL ARRAYS**<br>\n",
    "Fast and versatile, the NumPy vectorization, indexing, and broadcasting concepts are the de-facto standards of array computing today.<br>\n",
    "**NUMERICAL COMPUTING TOOLS**<br>\n",
    "NumPy offers comprehensive mathematical functions, random number generators, linear algebra routines, Fourier transforms, and more.<br>\n",
    "**INTEROPERABLE**<br>\n",
    "NumPy supports a wide range of hardware and computing platforms, and plays well with distributed, GPU, and sparse array libraries.<br>\n",
    "**PERFORMANT**<br>\n",
    "The core of NumPy is well-optimized C code. Enjoy the flexibility of Python with the speed of compiled code.<br>\n",
    "**EASY TO USE**<br>\n",
    "NumPy’s high level syntax makes it accessible and productive for programmers from any background or experience level.<br>\n",
    "**OPEN SOURCE**<br>\n",
    "Distributed under a liberal BSD license, NumPy is developed and maintained publicly on GitHub by a vibrant, responsive, and diverse community. [Source](https://numpy.org/)<br>\n",
    "\n",
    "\n",
    "## Why do we need it?\n",
    "To make a logical and mathematical computation on array and matrices, it is needed. It performs these operations way too efficiently and faster than python lists.\n",
    "\n",
    "## Advantages of NumPy\n",
    "1. Numpy arrays take less space.\n",
    "The core of Numpy is its arrays. One of the main advantages of using Numpy arrays is that they take less memory space and provide better runtime speed when compared with similar data structures in python(lists and tuples).NumPy’s arrays are smaller in size than Python lists. A python list could take upto 20MB size while an array could take 4MB. Arrays are also easy to access for reading and writing.\n",
    "2. The speed performance is also great. It performs faster computations than python lists.\n",
    "3. Numpy support some specific scientific functions such as linear algebra. They help us in solving linear equations.\n",
    "4. Numpy support vectorized operations, like elementwise addition and multiplication, computing Kronecker product, etc. Python lists fail to support these features.\n",
    "5. It is a very good substitute for MATLAB, OCTAVE, etc as it provides similar functionalities and supports with faster development and less mental overhead(as python is easy to write and comprehend)\n",
    "6. As it is open-source, it doesn’t cost anything, and it uses a very popular programming language, Python, which has high-quality libraries for almost every task. Also, it is easy to connect the existing C code to the Python interpreter.\n",
    "7. NumPy is very good for data analysis.\n",
    "\n",
    "## Disadvantages of NumPy\n",
    "\n",
    "1. Using “nan” in Numpy: “Nan” stands for “not a number”. It was designed to address the problem of missing values. NumPy itself supports “nan” but lack of cross-platform support within Python makes it difficult for the user. That’s why we may face problems when comparing values within the Python interpreter.\n",
    "2. Require a contiguous allocation of memory: Insertion and deletion operations become costly as data is stored in contiguous memory locations as shifting it requires shifting.\n",
    "\n",
    "![Capture1.PNG](https://i.ibb.co/FY1q7Xh/uses-of-numpy.png)\n",
    "\n",
    "[Numpy Source 01](https://www.educba.com/what-is-numpy-in-python/),\n",
    "[Numpy Source 02](https://www.javatpoint.com/numpy-tutorial),\n",
    "[Numpy Source 03](https://techvidvan.com/tutorials/python-numpy-tutorial/),\n",
    "[Numpy Source 04](https://medium.com/analytics-vidhya/introduction-to-numpy-16a6efaffdd7),\n",
    "[Numpy Source 05](https://data-flair.training/blogs/python-numpy-tutorial/),\n",
    "[Numpy Source 06](https://www.quora.com/In-Python-what-is-NumPy-How-is-it-used),\n",
    "[Numpy Source 07](https://fgnt.github.io/python_crashkurs_doc/include/numpy.html),\n",
    "[Numpy Source 08](https://towardsdatascience.com/a-hitchhiker-guide-to-python-numpy-arrays-9358de570121),\n",
    "[Numpy Source 09](https://scipy-lectures.org/intro/numpy/array_object.html),\n",
    "[Numpy Source 09](https://www.educba.com/introduction-to-numpy/)\n",
    "\n",
    "We will only learn the basics of NumPy, to get started we need to install it!"
   ]
  },
  {
   "cell_type": "markdown",
   "id": "9a2f316a",
   "metadata": {
    "id": "9a2f316a"
   },
   "source": [
    "## <p style=\"background-color:#9d4f8c; font-family:newtimeroman; color:#FFF9ED; font-size:175%; text-align:left; border-radius:10px 10px;\">Starting with Numpy</p>"
   ]
  },
  {
   "cell_type": "markdown",
   "id": "9802905c",
   "metadata": {
    "id": "9802905c"
   },
   "source": [
    "## 1) Load the library and check its version, just to make sure we aren't using an older version"
   ]
  },
  {
   "cell_type": "code",
   "execution_count": 13,
   "id": "8QFqNIpTzDe0",
   "metadata": {
    "id": "8QFqNIpTzDe0"
   },
   "outputs": [],
   "source": [
    "import numpy as np"
   ]
  },
  {
   "cell_type": "code",
   "execution_count": 14,
   "id": "MpWl4yWiziSR",
   "metadata": {
    "colab": {
     "base_uri": "https://localhost:8080/"
    },
    "id": "MpWl4yWiziSR",
    "outputId": "340ade5a-6309-4c71-b912-9b966ccf2fa8"
   },
   "outputs": [
    {
     "name": "stdout",
     "output_type": "stream",
     "text": [
      "1.24.3\n",
      "1.24.3\n"
     ]
    }
   ],
   "source": [
    "print(np.__version__)\n"
   ]
  },
  {
   "cell_type": "markdown",
   "id": "4182a769",
   "metadata": {
    "id": "4182a769"
   },
   "source": [
    "## 2) Create a list comprising numbers from 0 to 9"
   ]
  },
  {
   "cell_type": "code",
   "execution_count": 15,
   "id": "8b9189ed",
   "metadata": {
    "colab": {
     "base_uri": "https://localhost:8080/"
    },
    "id": "8b9189ed",
    "outputId": "98865a44-11d2-40bc-d041-a466e6455f58"
   },
   "outputs": [],
   "source": [
    "#Your code\n",
    "my_list = list(np.arange(0,10))\n",
    "my_list\n"
   ]
  },
  {
   "cell_type": "markdown",
   "id": "b9866753",
   "metadata": {
    "id": "b9866753"
   },
   "source": [
    "## 3) Converting integers to string - this style of handling lists is known as list comprehension.\n",
    "### List comprehension offers a versatile way to handle list manipulations tasks easily."
   ]
  },
  {
   "cell_type": "code",
   "execution_count": 16,
   "id": "a3ac0583",
   "metadata": {
    "colab": {
     "base_uri": "https://localhost:8080/"
    },
    "id": "a3ac0583",
    "outputId": "e805474c-5025-4079-8d38-fbbce51c9e99"
   },
   "outputs": [],
   "source": [
    "#Your code\n",
    "strings = [str(x) for x in my_list]\n",
    "strings"
   ]
  },
  {
   "cell_type": "markdown",
   "id": "cc7fd576",
   "metadata": {
    "id": "cc7fd576"
   },
   "source": [
    "## Creating Arrays\n",
    "\n",
    "#### Numpy arrays are homogeneous in nature, i.e., they comprise one data type (integer, float, double, etc.) unlike lists."
   ]
  },
  {
   "cell_type": "code",
   "execution_count": 17,
   "id": "f2da809a",
   "metadata": {
    "colab": {
     "base_uri": "https://localhost:8080/"
    },
    "id": "f2da809a",
    "outputId": "4f7c472d-9015-4247-9dcd-49bc7173f5c0"
   },
   "outputs": [],
   "source": [
    "#creating arrays\n",
    "arr1 = np.array([])\n",
    "\n",
    "\n",
    "#creating a 3 row x 5 column matrix\n",
    "my_matrix = np.matrix(arr1)\n",
    "\n",
    "#creating a matrix with a predefined value\n",
    "my_matrix = np.full((3, 5), 58)\n",
    "print('first matrix with pre-defined values: ', my_matrix, sep=\"\\n\")\n",
    "print()\n",
    "second_matrix = np.zeros((3,5))\n",
    "print('Second matrix with pre-defined values: ', \"\\n\", second_matrix)\n",
    "print()\n",
    "\n",
    "#create an array with a set sequence\n",
    "set_array = np.arange(1,21,5)\n",
    "print(\"Set array: \\n\", set_array)\n",
    "print()\n",
    "\n",
    "\n",
    "#create an array of even space between the given range of values\n",
    "space_array = np.linspace(0,10,2)\n",
    "print(\"Space array: \\n\", space_array)\n",
    "print()\n",
    "\n",
    "\n",
    "#create a 3x3 array with mean 0 and standard deviation 1 in a given dimension\n",
    "array = np.random.normal(0, 1, (3,3))\n",
    "print(\"Array of specified mean and std: \\n\", array)\n",
    "print()\n",
    "\n",
    "\n",
    "#create an identity matrix\n",
    "id_array = np.identity(3)\n",
    "print(\"My first way solution: \\n\", id_array)\n",
    "print()\n",
    "id_array_2 = np.eye(3)\n",
    "print(\"My second way solution: \\n\",id_array_2)\n",
    "print()\n",
    "full_array = np.full((3,3), [1])\n",
    "print(\"Full-array: \\n\", full_array)\n",
    "\n",
    "#set a random seed\n",
    "np.random.seed()\n",
    "\n",
    "\n",
    "\n",
    "\n"
   ]
  },
  {
   "cell_type": "markdown",
   "id": "d05d2db6",
   "metadata": {
    "id": "d05d2db6"
   },
   "source": [
    "## Array Indexing\n",
    "\n",
    "#### The important thing to remember is that indexing in python starts at zero."
   ]
  },
  {
   "cell_type": "code",
   "execution_count": 18,
   "id": "7f1d64f8",
   "metadata": {
    "id": "7f1d64f8"
   },
   "outputs": [],
   "source": [
    "x1 = np.array([4, 3, 4, 4, 8, 4])"
   ]
  },
  {
   "cell_type": "code",
   "execution_count": 19,
   "id": "834c9e73",
   "metadata": {
    "colab": {
     "base_uri": "https://localhost:8080/"
    },
    "id": "834c9e73",
    "outputId": "27863b90-f474-4558-fe02-11b68d4bd92c"
   },
   "outputs": [],
   "source": [
    "#assess value to index zero\n",
    "x1[0] = 15\n",
    "print(\"New value of index zero: \", x1[0])\n",
    "print(\"-\"*30)\n",
    "\n",
    "#assess fifth value\n",
    "x1[4] = 58\n",
    "print(\"New value for fifth value: \", x1[4])\n",
    "print(\"-\"*30)\n",
    "\n",
    "#get the last value\n",
    "print(\"Last value: \", x1[-1])\n",
    "print(\"-\"*30)\n",
    "\n",
    "\n",
    "#get the second last value\n",
    "print(\"Second last value: \", x1[-2])\n",
    "print(\"-\"*30)\n",
    "\n",
    "#in a multidimensional array, we need to specify row and column index\n",
    "multi_array = x1.reshape(2,3)\n",
    "print(\"Multidimentional array: \\n\", multi_array)\n",
    "print(\"-\"*30)\n",
    "\n",
    "#1st row and 2nd column value\n",
    "x2 = np.array([4, 3, 4, 4,1,5,6,7,8,9,10,4]).reshape(3,4)\n",
    "print(\"New multidimentional array: \\n\", x2)\n",
    "print(\"-\"*30)\n",
    "\n",
    "print(\"1st row and 2nd column value: \", x2[0,1])\n",
    "print(\"-\"*30)\n",
    "\n",
    "#3rd row and last value from the 3rd column\n",
    "print(\"2nd row and last value from the 3rd column: \", x2[2, :4])\n",
    "print(\"-\"*30)\n",
    "\n",
    "#replace value at 0,0 index\n",
    "new_value = x2[0,0] = 58\n",
    "print(\"New value for x2[0,0]: \", new_value)\n",
    "print(\"-\"*30)\n",
    "print(\"Last verison of x2: \\n\", x2)\n"
   ]
  },
  {
   "cell_type": "markdown",
   "id": "91582eeb",
   "metadata": {
    "id": "91582eeb"
   },
   "source": [
    "## Array Slicing\n"
   ]
  },
  {
   "cell_type": "markdown",
   "id": "79b798c7",
   "metadata": {
    "id": "79b798c7"
   },
   "source": [
    "Now, we'll learn to access multiple or a range of elements from an array."
   ]
  },
  {
   "cell_type": "code",
   "execution_count": 20,
   "id": "2728e13b",
   "metadata": {
    "id": "2728e13b"
   },
   "outputs": [],
   "source": [
    "x = np.arange(10)"
   ]
  },
  {
   "cell_type": "code",
   "execution_count": 21,
   "id": "jsIH7v-b-rQJ",
   "metadata": {
    "colab": {
     "base_uri": "https://localhost:8080/"
    },
    "id": "jsIH7v-b-rQJ",
    "outputId": "f378fc75-303d-4f67-aada-8c3ea411fb02"
   },
   "outputs": [],
   "source": [
    "x"
   ]
  },
  {
   "cell_type": "code",
   "execution_count": 22,
   "id": "a8ad1a12",
   "metadata": {
    "id": "a8ad1a12"
   },
   "outputs": [],
   "source": [
    "print(x)\n",
    "\n",
    "\n",
    "#from start to 4th position\n",
    "print(\"from start to 4th: \", x[:4])\n",
    "\n",
    "\n",
    "#from 4th position to end\n",
    "print(\"from 4th to end: \", x[3:])\n",
    "\n",
    "\n",
    "#from 4th to 6th position\n",
    "print(\"from 4th to 6th: \", x[3:6])\n",
    "\n",
    "#return elements at even place\n",
    "print(\"even places: \", x[::2])\n",
    "\n",
    "\n",
    "#return elements from first position step by two\n",
    "print(\"elements from first position step by two: \", x[1::2])\n",
    "\n",
    "\n",
    "\n",
    "#reverse the array\n",
    "print(\"First way to reverse array: \", x[::-1])\n",
    "print(\"Second way to reverse array: \", list(reversed(x)))\n",
    "print(\"Third way to reverse array: \", np.flip(x))\n"
   ]
  },
  {
   "cell_type": "code",
   "execution_count": 23,
   "id": "ZxW7r5HL_2qF",
   "metadata": {
    "colab": {
     "base_uri": "https://localhost:8080/"
    },
    "id": "ZxW7r5HL_2qF",
    "outputId": "386a921b-c5b1-4f7e-bc11-0ff0063c1943"
   },
   "outputs": [],
   "source": [
    "x2"
   ]
  },
  {
   "cell_type": "markdown",
   "id": "8eb26074",
   "metadata": {
    "id": "8eb26074"
   },
   "source": [
    "## Array Concatenation\n"
   ]
  },
  {
   "cell_type": "markdown",
   "id": "5bd5dcb5",
   "metadata": {
    "id": "5bd5dcb5"
   },
   "source": [
    "Many a time, we are required to combine different arrays. So, instead of typing each of their elements manually, you can use array concatenation to handle such tasks easily."
   ]
  },
  {
   "cell_type": "code",
   "execution_count": 24,
   "id": "136d3109",
   "metadata": {
    "colab": {
     "base_uri": "https://localhost:8080/"
    },
    "id": "136d3109",
    "outputId": "07e5625f-ad41-4108-871c-6589e2a30503"
   },
   "outputs": [],
   "source": [
    "#You can concatenate two or more arrays at once.\n",
    "x = np.array([1, 2, 3])\n",
    "y = np.array([3, 2, 1])\n",
    "z = [21,21,21]\n",
    "z = np.array(z)\n",
    "concat_array = np.concatenate(((x,y,z)))\n",
    "print(\"New array with x, y and z: \", concat_array)\n",
    "print()\n",
    "#You can also use this function to create 2-dimensional arrays.\n",
    "grid = np.array([[1,2,3],[4,5,6]])\n",
    "\n",
    "md_array = concat_array.reshape(3,3)\n",
    "print(\"2D array: \\n\", md_array)\n",
    "print()\n",
    "print(\"Shape of md_array: \", md_array.shape)\n",
    "print()\n",
    "#Using its axis parameter, you can define row-wise or column-wise matrix\n",
    "print(\"element of 3rd row and 2nd column: \", md_array[2,1])"
   ]
  },
  {
   "cell_type": "markdown",
   "id": "cde21a2b",
   "metadata": {
    "id": "cde21a2b"
   },
   "source": [
    "Until now, we used the concatenation function of arrays of equal dimension. But, what if you are required to combine a 2D array with 1D array? In such situations, np.concatenate might not be the best option to use. Instead, you can use np.vstack or np.hstack to do the task. Let's see how!"
   ]
  },
  {
   "cell_type": "code",
   "execution_count": 25,
   "id": "cb9b7d95",
   "metadata": {
    "colab": {
     "base_uri": "https://localhost:8080/"
    },
    "id": "cb9b7d95",
    "outputId": "6ce90bdd-924c-43fd-fa65-3368c230c666"
   },
   "outputs": [],
   "source": [
    "x = np.array([3,4,5])\n",
    "grid = np.array([[1,2,3],[17,18,19]])\n",
    "\n",
    "\n",
    "#Similarly, you can add an array using np.hstack\n",
    "z = np.array([[9],[8]])\n",
    "\n",
    "result = np.hstack((grid, z))\n",
    "print(result)"
   ]
  },
  {
   "cell_type": "markdown",
   "id": "191ea163",
   "metadata": {
    "id": "191ea163"
   },
   "source": [
    "## <p style=\"background-color:#9d4f8c; font-family:newtimeroman; color:#FFF9ED; font-size:175%; text-align:left; border-radius:10px 10px;\">Let's start with Pandas</p>"
   ]
  },
  {
   "cell_type": "markdown",
   "id": "7c000e16",
   "metadata": {
    "id": "7c000e16"
   },
   "source": [
    "![pandas.png](attachment:pandas.png)"
   ]
  },
  {
   "cell_type": "code",
   "execution_count": 26,
   "id": "sPCC3M-aWMO3",
   "metadata": {
    "id": "sPCC3M-aWMO3"
   },
   "outputs": [],
   "source": [
    "import pandas as pd"
   ]
  },
  {
   "cell_type": "code",
   "execution_count": 27,
   "id": "f7f71a71",
   "metadata": {
    "colab": {
     "base_uri": "https://localhost:8080/",
     "height": 206
    },
    "id": "f7f71a71",
    "outputId": "661c6155-a97a-4de6-ee14-b340c767e46e"
   },
   "outputs": [],
   "source": [
    "#create a data frame - dictionary is used here where keys get converted to column names and values to row values.\n",
    "data = pd.DataFrame({'Country': ['Russia','Colombia','Chile','Equador','Nigeria'],\n",
    "                    'Rank':[121,40,100,130,11]})\n",
    "data"
   ]
  },
  {
   "cell_type": "code",
   "execution_count": 28,
   "id": "d8fea4d1",
   "metadata": {
    "id": "d8fea4d1"
   },
   "outputs": [],
   "source": [
    "#We can do a quick analysis of any data set using:"
   ]
  },
  {
   "cell_type": "markdown",
   "id": "ba6b2a09",
   "metadata": {
    "id": "ba6b2a09"
   },
   "source": [
    "Remember, describe() method computes summary statistics of integer / double variables. To get the complete information about the data set, we can use info() function."
   ]
  },
  {
   "cell_type": "code",
   "execution_count": 29,
   "id": "FahI0IoLorBc",
   "metadata": {
    "colab": {
     "base_uri": "https://localhost:8080/"
    },
    "id": "FahI0IoLorBc",
    "outputId": "fed611a8-ca4f-46a0-ef5d-3bbd6ec0712c"
   },
   "outputs": [],
   "source": [
    "data.info()"
   ]
  },
  {
   "cell_type": "code",
   "execution_count": 30,
   "id": "_tfVJmgHoqwj",
   "metadata": {
    "colab": {
     "base_uri": "https://localhost:8080/",
     "height": 80
    },
    "id": "_tfVJmgHoqwj",
    "outputId": "8843d43f-3210-41cc-9caa-79c58528b3b2"
   },
   "outputs": [],
   "source": [
    "data.describe().T"
   ]
  },
  {
   "cell_type": "code",
   "execution_count": 31,
   "id": "4be48c16",
   "metadata": {
    "colab": {
     "base_uri": "https://localhost:8080/"
    },
    "id": "4be48c16",
    "outputId": "3bdc6633-580e-4574-9558-19255ba9f251"
   },
   "outputs": [],
   "source": [
    "data.diff"
   ]
  },
  {
   "cell_type": "code",
   "execution_count": 32,
   "id": "b7ea5035",
   "metadata": {
    "id": "b7ea5035"
   },
   "outputs": [],
   "source": [
    "#Among other things, it shows the data set has 5 rows and 2 columns with their respective names."
   ]
  },
  {
   "cell_type": "code",
   "execution_count": 33,
   "id": "7c28c519",
   "metadata": {
    "colab": {
     "base_uri": "https://localhost:8080/"
    },
    "id": "7c28c519",
    "outputId": "dc05648c-db48-4cd7-a164-add3bc9d92b8"
   },
   "outputs": [],
   "source": [
    "data.shape"
   ]
  },
  {
   "cell_type": "code",
   "execution_count": 34,
   "id": "1325353a",
   "metadata": {
    "colab": {
     "base_uri": "https://localhost:8080/",
     "height": 206
    },
    "id": "1325353a",
    "outputId": "eab5740f-3627-4232-dbac-0e62cf175284"
   },
   "outputs": [],
   "source": [
    "#Let's sort the data frame by Rank - inplace = True will make changes to the data\n",
    "\n",
    "data.sort_values(\"Rank\",inplace=True)\n",
    "data"
   ]
  },
  {
   "cell_type": "markdown",
   "id": "9d474cae",
   "metadata": {
    "id": "9d474cae"
   },
   "source": [
    "We can sort the data by not just one column but multiple columns as well."
   ]
  },
  {
   "cell_type": "code",
   "execution_count": 35,
   "id": "d6a3d551",
   "metadata": {
    "colab": {
     "base_uri": "https://localhost:8080/",
     "height": 206
    },
    "id": "d6a3d551",
    "outputId": "91906294-6a39-4b76-e06f-a27a42a5a2c6"
   },
   "outputs": [],
   "source": [
    "data.sort_values(\"Rank\", ascending=False)\n"
   ]
  },
  {
   "cell_type": "markdown",
   "id": "2b5a5acf",
   "metadata": {
    "id": "2b5a5acf"
   },
   "source": [
    "![pandas%20series.png](attachment:pandas%20series.png)"
   ]
  },
  {
   "cell_type": "code",
   "execution_count": 36,
   "id": "0b145968",
   "metadata": {
    "colab": {
     "base_uri": "https://localhost:8080/"
    },
    "id": "0b145968",
    "outputId": "6dd902ed-bbe8-4cf5-e7bf-f6dac91b2b8b"
   },
   "outputs": [],
   "source": [
    "#Series function from pandas are used to create arrays\n",
    "data = pd.Series([1., -999., 2., -999., -1000., 3.])\n",
    "data"
   ]
  },
  {
   "cell_type": "markdown",
   "id": "2bf424e1",
   "metadata": {
    "id": "2bf424e1"
   },
   "source": [
    "![pandas%20series2.png](attachment:pandas%20series2.png)"
   ]
  },
  {
   "cell_type": "code",
   "execution_count": 37,
   "id": "cb936db3",
   "metadata": {
    "colab": {
     "base_uri": "https://localhost:8080/"
    },
    "id": "cb936db3",
    "outputId": "650905a4-dd88-41ea-90a6-54abda2a0a82"
   },
   "outputs": [],
   "source": [
    "#replace -999 with NaN values\n",
    "#data.replace(-999, np.nan)\n",
    "\n",
    "\n",
    "#We can also replace multiple values at once.\n",
    "\n",
    "data.replace([-999, -1000], np.nan)\n"
   ]
  },
  {
   "cell_type": "markdown",
   "id": "f2227770",
   "metadata": {
    "id": "f2227770"
   },
   "source": [
    "Now, let's learn how to rename column names and axis (row names)."
   ]
  },
  {
   "cell_type": "code",
   "execution_count": 38,
   "id": "fda995f5",
   "metadata": {
    "colab": {
     "base_uri": "https://localhost:8080/",
     "height": 143
    },
    "id": "fda995f5",
    "outputId": "40258106-9b68-4890-fd48-17ce430b8e02"
   },
   "outputs": [],
   "source": [
    "data = pd.DataFrame(np.arange(12).reshape((3, 4)),index=['Ohio', 'Colorado', 'New York'],columns=['one', 'two', 'three', 'four'])\n",
    "data"
   ]
  },
  {
   "cell_type": "code",
   "execution_count": 39,
   "id": "1d95e3ec",
   "metadata": {
    "colab": {
     "base_uri": "https://localhost:8080/",
     "height": 143
    },
    "id": "1d95e3ec",
    "outputId": "ddbe80d8-1192-44ad-9234-20eba1667c38"
   },
   "outputs": [],
   "source": [
    "# Rename column and row names as in the picture\n",
    "df = data.set_axis(['SanF', 'Colorado', 'New York'], axis=0)\n",
    "df.set_axis(['one_p', 'two_p', 'three', 'four'], axis=1)"
   ]
  },
  {
   "cell_type": "code",
   "execution_count": 40,
   "id": "8dNUAoF7Kpbk",
   "metadata": {
    "id": "8dNUAoF7Kpbk"
   },
   "outputs": [],
   "source": [
    "df.index = ['Istanbul', 'Colorado', 'New York']"
   ]
  },
  {
   "cell_type": "code",
   "execution_count": 41,
   "id": "2ceXZYesLNIU",
   "metadata": {
    "colab": {
     "base_uri": "https://localhost:8080/",
     "height": 143
    },
    "id": "2ceXZYesLNIU",
    "outputId": "c39f7dc3-6f5e-4689-db77-653bacdc67c2"
   },
   "outputs": [],
   "source": [
    "df"
   ]
  },
  {
   "cell_type": "code",
   "execution_count": 42,
   "id": "KlwVE7s-LSwD",
   "metadata": {
    "colab": {
     "base_uri": "https://localhost:8080/",
     "height": 143
    },
    "id": "KlwVE7s-LSwD",
    "outputId": "bb703b3f-2fd8-4f26-c1a2-aabba7fdb695"
   },
   "outputs": [],
   "source": [
    "df.rename({\"Colorado\":\"Warsaw\",\"New York\":\"Ankara\"})"
   ]
  },
  {
   "cell_type": "code",
   "execution_count": null,
   "id": "R6a0cm1HLSme",
   "metadata": {
    "id": "R6a0cm1HLSme"
   },
   "outputs": [],
   "source": []
  },
  {
   "cell_type": "markdown",
   "id": "d9921b4c",
   "metadata": {
    "id": "d9921b4c"
   },
   "source": [
    "Let's proceed and learn about grouping data and creating pivots in pandas. It's an immensely important data analysis method which you'd probably have to use on every data set you work with."
   ]
  },
  {
   "cell_type": "code",
   "execution_count": 43,
   "id": "1703dc5d",
   "metadata": {
    "colab": {
     "base_uri": "https://localhost:8080/",
     "height": 206
    },
    "id": "1703dc5d",
    "outputId": "0256fc4f-c6b4-47b9-e283-392b283fe53d"
   },
   "outputs": [],
   "source": [
    "df = pd.DataFrame({'key1' : ['a', 'a', 'b', 'b', 'a'],\n",
    "                   'key2' : ['one', 'two', 'one', 'two', 'one'],\n",
    "                   'data1' : np.random.randn(5),\n",
    "                   'data2' : np.random.randn(5)})\n",
    "df"
   ]
  },
  {
   "cell_type": "code",
   "execution_count": 44,
   "id": "3bf3614d",
   "metadata": {
    "id": "3bf3614d"
   },
   "outputs": [],
   "source": [
    "#calculate the mean of data1 column by key1"
   ]
  },
  {
   "cell_type": "code",
   "execution_count": 45,
   "id": "4grQtpb6MAzP",
   "metadata": {
    "colab": {
     "base_uri": "https://localhost:8080/"
    },
    "id": "4grQtpb6MAzP",
    "outputId": "db66ce3a-9a99-4c9c-93c9-0f067639a1bf"
   },
   "outputs": [],
   "source": [
    "df['data1'].mean()"
   ]
  },
  {
   "cell_type": "code",
   "execution_count": 46,
   "id": "f3980a7a",
   "metadata": {
    "colab": {
     "base_uri": "https://localhost:8080/"
    },
    "id": "f3980a7a",
    "outputId": "71c8703b-b8fc-435b-eac3-7862afe34f19"
   },
   "outputs": [],
   "source": [
    "df['data1'].std()"
   ]
  },
  {
   "cell_type": "markdown",
   "id": "4f01ff3c",
   "metadata": {
    "id": "4f01ff3c"
   },
   "source": [
    "Now, let's see how to slice the data frame."
   ]
  },
  {
   "cell_type": "code",
   "execution_count": 47,
   "id": "ab0fe872",
   "metadata": {
    "colab": {
     "base_uri": "https://localhost:8080/",
     "height": 237
    },
    "id": "ab0fe872",
    "outputId": "ddc83a63-5999-4cf6-8e33-ea33a844e2a1"
   },
   "outputs": [],
   "source": [
    "dates = pd.date_range('20130101',periods=6)\n",
    "df = pd.DataFrame(np.random.randn(6,4),index=dates,columns=list('ABCD'))\n",
    "df"
   ]
  },
  {
   "cell_type": "code",
   "execution_count": 48,
   "id": "1f90397d",
   "metadata": {
    "colab": {
     "base_uri": "https://localhost:8080/",
     "height": 143
    },
    "id": "1f90397d",
    "outputId": "e085fa41-a622-43b5-c90c-7c1e8c63a24b"
   },
   "outputs": [],
   "source": [
    "#get first n rows from the data frame\n",
    "n=3\n",
    "df.head(3)"
   ]
  },
  {
   "cell_type": "code",
   "execution_count": 49,
   "id": "f9d182c4",
   "metadata": {
    "colab": {
     "base_uri": "https://localhost:8080/",
     "height": 206
    },
    "id": "f9d182c4",
    "outputId": "607d3a0f-1d2e-446b-c5aa-3de2cb4561e2"
   },
   "outputs": [],
   "source": [
    "df.tail()"
   ]
  },
  {
   "cell_type": "code",
   "execution_count": 50,
   "id": "53958fd4",
   "metadata": {
    "colab": {
     "base_uri": "https://localhost:8080/",
     "height": 174
    },
    "id": "53958fd4",
    "outputId": "6c606f8f-d30c-46c0-f0ee-581b301695ba"
   },
   "outputs": [],
   "source": [
    "#slice based on date range\n",
    "start_date = '2013-01-01'\n",
    "end_date = '2013-01-04'\n",
    "df[start_date:end_date]"
   ]
  },
  {
   "cell_type": "code",
   "execution_count": null,
   "id": "21b00ac8",
   "metadata": {
    "id": "21b00ac8",
    "outputId": "70acd399-f03a-42f6-b895-3b1e5a125588"
   },
   "outputs": [],
   "source": []
  },
  {
   "cell_type": "code",
   "execution_count": 51,
   "id": "ca52a7b6",
   "metadata": {
    "colab": {
     "base_uri": "https://localhost:8080/",
     "height": 237
    },
    "id": "ca52a7b6",
    "outputId": "000c151a-016e-43d1-98ef-1f758e60bdca"
   },
   "outputs": [],
   "source": [
    "#slicing based on column names\n",
    "df[['A','B']]"
   ]
  },
  {
   "cell_type": "code",
   "execution_count": 52,
   "id": "vwaQoMC4lE7F",
   "metadata": {
    "colab": {
     "base_uri": "https://localhost:8080/",
     "height": 112
    },
    "id": "vwaQoMC4lE7F",
    "outputId": "63838f5e-d344-44ae-b032-01bc83af5faa"
   },
   "outputs": [],
   "source": [
    "#slicing based on both row index labels and column names\n",
    "start_date = '2013-01-02'\n",
    "end_date = '2013-01-03'\n",
    "df.loc[start_date:end_date,['A','B']]"
   ]
  },
  {
   "cell_type": "code",
   "execution_count": 53,
   "id": "OxSrc8Wdo3IK",
   "metadata": {
    "colab": {
     "base_uri": "https://localhost:8080/",
     "height": 112
    },
    "id": "OxSrc8Wdo3IK",
    "outputId": "7c198e7a-1b31-4d22-954d-fb9132999bbe"
   },
   "outputs": [],
   "source": [
    "df.iloc[[1,3],[0,1]]"
   ]
  },
  {
   "cell_type": "code",
   "execution_count": 54,
   "id": "ziEY9C4Jl_gp",
   "metadata": {
    "colab": {
     "base_uri": "https://localhost:8080/"
    },
    "id": "ziEY9C4Jl_gp",
    "outputId": "0820b4b2-df42-444e-8003-0ac3d26c8abe"
   },
   "outputs": [],
   "source": [
    "#slicing based on index of columns\n",
    "#returns 4th row (index is 3rd)\n",
    "df.iloc[3].T"
   ]
  },
  {
   "cell_type": "code",
   "execution_count": 55,
   "id": "f7d390fa",
   "metadata": {
    "colab": {
     "base_uri": "https://localhost:8080/",
     "height": 112
    },
    "id": "f7d390fa",
    "outputId": "7011f13a-345d-4601-91a0-573f9757f4ee"
   },
   "outputs": [],
   "source": [
    "#returns specific rows and columns using lists containing columns or row indexes\n",
    "df.iloc[[1,5],[0,2]]"
   ]
  },
  {
   "cell_type": "markdown",
   "id": "d460dd72",
   "metadata": {
    "id": "d460dd72"
   },
   "source": [
    "Similarly, we can do Boolean indexing based on column values as well. This helps in filtering a data set based on a pre-defined condition.\n",
    "\n"
   ]
  },
  {
   "cell_type": "code",
   "execution_count": 56,
   "id": "83ecsjIdtTnG",
   "metadata": {
    "colab": {
     "base_uri": "https://localhost:8080/",
     "height": 237
    },
    "id": "83ecsjIdtTnG",
    "outputId": "b3976845-3fba-43c7-f5d0-2be8ac548097"
   },
   "outputs": [],
   "source": [
    "df"
   ]
  },
  {
   "cell_type": "code",
   "execution_count": 57,
   "id": "Mc315zRqtTbE",
   "metadata": {
    "colab": {
     "base_uri": "https://localhost:8080/",
     "height": 80
    },
    "id": "Mc315zRqtTbE",
    "outputId": "e8f57b48-9ff8-451a-d0c6-e5012ea4d4c9"
   },
   "outputs": [],
   "source": [
    "df[df.index == '2013-01-05']"
   ]
  },
  {
   "cell_type": "markdown",
   "id": "8V72R_b3rwOh",
   "metadata": {
    "id": "8V72R_b3rwOh"
   },
   "source": [
    "![image.png](data:image/png;base64,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)"
   ]
  },
  {
   "cell_type": "markdown",
   "id": "1b92cc8f",
   "metadata": {
    "id": "1b92cc8f"
   },
   "source": [
    "## <p style=\"background-color:#9d4f8c; font-family:newtimeroman; color:#FFF9ED; font-size:175%; text-align:left; border-radius:10px 10px;\">Thanks!... Keep working to succeed.. </p>"
   ]
  }
 ],
 "metadata": {
  "colab": {
   "provenance": []
  },
  "kernelspec": {
   "display_name": "Python 3 (ipykernel)",
   "language": "python",
   "name": "python3"
  },
  "language_info": {
   "codemirror_mode": {
    "name": "ipython",
    "version": 3
   },
   "file_extension": ".py",
   "mimetype": "text/x-python",
   "name": "python",
   "nbconvert_exporter": "python",
   "pygments_lexer": "ipython3",
   "version": "3.10.9"
  }
 },
 "nbformat": 4,
 "nbformat_minor": 5
}
